{
  "nbformat": 4,
  "nbformat_minor": 0,
  "metadata": {
    "colab": {
      "provenance": [],
      "authorship_tag": "ABX9TyMEfNlR1fSrRC7XQfJ7IlMc",
      "include_colab_link": true
    },
    "kernelspec": {
      "name": "python3",
      "display_name": "Python 3"
    },
    "language_info": {
      "name": "python"
    }
  },
  "cells": [
    {
      "cell_type": "markdown",
      "metadata": {
        "id": "view-in-github",
        "colab_type": "text"
      },
      "source": [
        "<a href=\"https://colab.research.google.com/github/abrahamjenie/Programming-for-Data-Analysis-CA1-Web-Scraping/blob/main/SalaryData_WebScraping.ipynb\" target=\"_parent\"><img src=\"https://colab.research.google.com/assets/colab-badge.svg\" alt=\"Open In Colab\"/></a>"
      ]
    },
    {
      "cell_type": "code",
      "execution_count": 12,
      "metadata": {
        "id": "MzQzyfTuJ5ks"
      },
      "outputs": [],
      "source": [
        "#Importing Packages\n",
        "import requests\n",
        "from bs4 import BeautifulSoup\n",
        "import json\n",
        "import pandas as pd\n",
        "import time"
      ]
    },
    {
      "cell_type": "code",
      "source": [
        "url=\"https://www.salary.com/research/ie-salary/alternate/data-scientist-analytics-intermediate-salary/ie/dublin\"\n",
        "r = requests.get(url)\n",
        "print(r) #status code is 200 "
      ],
      "metadata": {
        "id": "AQPaDgXZ0HHk",
        "outputId": "12524865-1f62-4571-8646-c1d5e81b7099",
        "colab": {
          "base_uri": "https://localhost:8080/"
        }
      },
      "execution_count": 13,
      "outputs": [
        {
          "output_type": "stream",
          "name": "stdout",
          "text": [
            "<Response [200]>\n"
          ]
        }
      ]
    },
    {
      "cell_type": "code",
      "source": [
        "r.content\n",
        "1"
      ],
      "metadata": {
        "id": "qNF675tV0L4v",
        "outputId": "bdb1af5d-1618-4521-a9b4-b2ef088a5ead",
        "colab": {
          "base_uri": "https://localhost:8080/"
        }
      },
      "execution_count": 14,
      "outputs": [
        {
          "output_type": "execute_result",
          "data": {
            "text/plain": [
              "1"
            ]
          },
          "metadata": {},
          "execution_count": 14
        }
      ]
    },
    {
      "cell_type": "code",
      "source": [
        "soup=BeautifulSoup(r.content,'html.parser')\n",
        "script=soup.find_all('script')[5].text\n",
        "script"
      ],
      "metadata": {
        "id": "90Up1pNH0RiR",
        "outputId": "6a6e4285-584f-4c12-ffca-785bc46913b9",
        "colab": {
          "base_uri": "https://localhost:8080/",
          "height": 139
        }
      },
      "execution_count": 15,
      "outputs": [
        {
          "output_type": "execute_result",
          "data": {
            "text/plain": [
              "'\\r\\n    {\\r\\n    \"@context\": \"http://schema.org\",\\r\\n    \"@type\": \"Occupation\",\\r\\n    \"name\": \"Data Scientist/Analytics , Intermediate\",\\r\\n    \"mainEntityOfPage\": {\\r\\n    \"@type\": \"WebPage\",\\r\\n    \"lastReviewed\": \"2021-03-19T00:00:00Z\"\\r\\n    },\\r\\n    \"description\": \"A Data Scientist is a professional who extensively works with Big Data in order to derive valuable business insights from it.\\r\\nHowever, data scientists and predictive analytics professionals (PAPs) are more likely to hold an advanced degree.\\r\\nDay-to-day activities of a Data Scientist sometimes can be predictable, and sometimes they are something out of the ordinary.\\r\\n\",\\r\\n    \"estimatedSalary\": [{\\r\\n    \"@type\": \"MonetaryAmountDistribution\",\\r\\n    \"name\": \"base\",\\r\\n    \"currency\": \"EUR\",\\r\\n    \"duration\": \"P1Y\",\\r\\n    \"percentile25\": \"31559\",\\r\\n    \"median\": \"39009\",\\r\\n    \"percentile75\": \"46472\"\\r\\n    }]\\r\\n        \\r\\n            ,\\r\\n            \"occupationLocation\": [{\\r\\n            \"@type\": \"City\",\\r\\n            \"name\": \"Dublin, Ireland\"\\r\\n            }]\\r\\n        \\r\\n    }\\r\\n'"
            ],
            "application/vnd.google.colaboratory.intrinsic+json": {
              "type": "string"
            }
          },
          "metadata": {},
          "execution_count": 15
        }
      ]
    },
    {
      "cell_type": "code",
      "source": [
        "json_data=json.loads(script,strict=False) #strict=False is used because there are control characters like '\\r','\\n'\n",
        "json_data"
      ],
      "metadata": {
        "id": "_7K-CRTv0XKY",
        "outputId": "d0fb60b7-3ac3-41c0-b732-ad3e2a4d59b9",
        "colab": {
          "base_uri": "https://localhost:8080/"
        }
      },
      "execution_count": 16,
      "outputs": [
        {
          "output_type": "execute_result",
          "data": {
            "text/plain": [
              "{'@context': 'http://schema.org',\n",
              " '@type': 'Occupation',\n",
              " 'name': 'Data Scientist/Analytics , Intermediate',\n",
              " 'mainEntityOfPage': {'@type': 'WebPage',\n",
              "  'lastReviewed': '2021-03-19T00:00:00Z'},\n",
              " 'description': 'A Data Scientist is a professional who extensively works with Big Data in order to derive valuable business insights from it.\\r\\nHowever, data scientists and predictive analytics professionals (PAPs) are more likely to hold an advanced degree.\\r\\nDay-to-day activities of a Data Scientist sometimes can be predictable, and sometimes they are something out of the ordinary.\\r\\n',\n",
              " 'estimatedSalary': [{'@type': 'MonetaryAmountDistribution',\n",
              "   'name': 'base',\n",
              "   'currency': 'EUR',\n",
              "   'duration': 'P1Y',\n",
              "   'percentile25': '31559',\n",
              "   'median': '39009',\n",
              "   'percentile75': '46472'}],\n",
              " 'occupationLocation': [{'@type': 'City', 'name': 'Dublin, Ireland'}]}"
            ]
          },
          "metadata": {},
          "execution_count": 16
        }
      ]
    },
    {
      "cell_type": "code",
      "source": [
        "meta_url=soup.find('meta',property=\"og:url\")\n",
        "meta_url"
      ],
      "metadata": {
        "id": "13vTUiv30fM3",
        "outputId": "30900e18-3dca-4b0d-d100-cf5e2bef340b",
        "colab": {
          "base_uri": "https://localhost:8080/"
        }
      },
      "execution_count": 17,
      "outputs": [
        {
          "output_type": "execute_result",
          "data": {
            "text/plain": [
              "<meta content=\"https://www.salary.com/research/ie-salary/alternate/data-scientist-analytics-intermediate-salary/ie/dublin\" property=\"og:url\"/>"
            ]
          },
          "metadata": {},
          "execution_count": 17
        }
      ]
    },
    {
      "cell_type": "code",
      "source": [
        "job_designation=json_data['name']\n",
        "job_desc=json_data['description']\n",
        "percentile25_salary=json_data['estimatedSalary'][0]['percentile25']\n",
        "median_salary=json_data['estimatedSalary'][0]['median']\n",
        "percentile75_salary=json_data['estimatedSalary'][0]['percentile75']\n",
        "salary_type=json_data['estimatedSalary'][0]['name']\n",
        "currency=json_data['estimatedSalary'][0]['currency']\n",
        "salary_duration=json_data['estimatedSalary'][0]['duration']\n",
        "location=json_data['occupationLocation'][0]['name']\n",
        "last_reviewed_datetime=json_data['mainEntityOfPage']['lastReviewed']\n",
        "weblink=meta_url['content']\n",
        "\n",
        "print(job_designation,percentile25_salary,median_salary,percentile75_salary,salary_type,currency,salary_duration,location,last_reviewed_date,meta_url,weblink)"
      ],
      "metadata": {
        "id": "jWun1dNy0mKr",
        "outputId": "ed26c3a5-53bc-4318-cbd7-fbd5b25ab5dd",
        "colab": {
          "base_uri": "https://localhost:8080/"
        }
      },
      "execution_count": 18,
      "outputs": [
        {
          "output_type": "stream",
          "name": "stdout",
          "text": [
            "Data Scientist/Analytics , Intermediate 31559 39009 46472 base EUR P1Y Dublin, Ireland 2021-03-19T00:00:00Z <meta content=\"https://www.salary.com/research/ie-salary/alternate/data-scientist-analytics-intermediate-salary/ie/dublin\" property=\"og:url\"/> https://www.salary.com/research/ie-salary/alternate/data-scientist-analytics-intermediate-salary/ie/dublin\n"
          ]
        }
      ]
    },
    {
      "cell_type": "code",
      "source": [
        "cities=['dublin','cork','galway','limerick','shannon-west','waterford']\n",
        "job_roles=['data-architect-ii','personal-assistant-to-ceo','operational-risk-analyst-ii','entry-hr-generalist','senior-risk-analyst','asset-and-liability-risk-analyst','junior-accountant','financial-accountant-i','it-user-support-manager','data-scientist-analytics-senior-specialist','life-sciences-research-scientist-iii','hr-assistant-ii','data-scientist-analytics-intermediate','entry-financial-analyst','entry-accountant','graphic-designer-ii','instructional-designer','healthcare-services-planning-director','warehouse-operations-supervisor','database-warehouse-programmer','warehouse-helper']\n",
        "data={}\n",
        "salary_df=pd.DataFrame(data)\n",
        "for role in job_roles:\n",
        "  for city in cities:\n",
        "    alternate = 'https://www.salary.com/research/ie-salary/alternate/{}-salary/ie/{}'\n",
        "    benchmark = 'https://www.salary.com/research/ie-salary/benchmark/{}-salary/ie/{}'\n",
        "\n",
        "    url_alt = alternate.format(role, city)\n",
        "    url_bench= benchmark.format(role, city)\n",
        "    r_alt = requests.get(url_alt)\n",
        "    r_bench=requests.get(url_bench)\n",
        "\n",
        "    if r_alt.status_code==200 and r_bench.status_code!=200:\n",
        "      r=requests.get(url_alt)\n",
        "    elif r_bench.status_code==200 and r_alt.status_code!=200:\n",
        "      r=requests.get(url_bench)\n",
        "    else:\n",
        "      print(\"HTTP request failed for {} and {}\".format(url_alt,url_bench))\n",
        "      continue\n",
        "\n",
        "        \n",
        "    soup=BeautifulSoup(r.content,'html.parser')\n",
        "    script=soup.find_all('script')[5].text\n",
        "    \n",
        "    json_data=json.loads(script,strict=False)\n",
        "    \n",
        "    meta_url=soup.find('meta',property=\"og:url\")\n",
        "    \n",
        "    new_row={'job_designation':json_data['name'],'percentile25_salary':json_data['estimatedSalary'][0]['percentile25'],\n",
        "             'median_salary':json_data['estimatedSalary'][0]['median'],'percentile75_salary':json_data['estimatedSalary'][0]['percentile75'],\n",
        "             'salary_type':json_data['estimatedSalary'][0]['name'],'currency':json_data['estimatedSalary'][0]['currency'],\n",
        "             'salary_duration':json_data['estimatedSalary'][0]['duration'],'location':json_data['occupationLocation'][0]['name'],\n",
        "             'last_reviewed_datetime':json_data['mainEntityOfPage']['lastReviewed'],'weblink':meta_url['content'],'job_desc':json_data['description']}\n",
        "    salary_df = salary_df.append(new_row, ignore_index=True)\n",
        "print(salary_df)"
      ],
      "metadata": {
        "id": "1VEg5ZP_mFjs",
        "outputId": "afc6ff0d-ebca-4e3e-9ed5-b6f604ca59d1",
        "colab": {
          "base_uri": "https://localhost:8080/"
        }
      },
      "execution_count": 19,
      "outputs": [
        {
          "output_type": "stream",
          "name": "stdout",
          "text": [
            "       job_designation percentile25_salary median_salary percentile75_salary  \\\n",
            "0    Data Architect II               42167         50115               58800   \n",
            "1    Data Architect II               39972         47506               55739   \n",
            "2    Data Architect II               39035         46393               54433   \n",
            "3    Data Architect II               39420         46850               54969   \n",
            "4    Data Architect II               38646         45930               53890   \n",
            "..                 ...                 ...           ...                 ...   \n",
            "121   Warehouse Helper               22562         29382               38055   \n",
            "122   Warehouse Helper               22033         28693               37163   \n",
            "123   Warehouse Helper               22251         28976               37530   \n",
            "124   Warehouse Helper               21814         28407               36793   \n",
            "125   Warehouse Helper               21406         27877               36106   \n",
            "\n",
            "    salary_type currency salary_duration               location  \\\n",
            "0          base      EUR             P1Y        Dublin, Ireland   \n",
            "1          base      EUR             P1Y          Cork, Ireland   \n",
            "2          base      EUR             P1Y        Galway, Ireland   \n",
            "3          base      EUR             P1Y      Limerick, Ireland   \n",
            "4          base      EUR             P1Y  Shannon-West, Ireland   \n",
            "..          ...      ...             ...                    ...   \n",
            "121        base      EUR             P1Y          Cork, Ireland   \n",
            "122        base      EUR             P1Y        Galway, Ireland   \n",
            "123        base      EUR             P1Y      Limerick, Ireland   \n",
            "124        base      EUR             P1Y  Shannon-West, Ireland   \n",
            "125        base      EUR             P1Y     Waterford, Ireland   \n",
            "\n",
            "    last_reviewed_datetime                                            weblink  \\\n",
            "0     2021-03-19T00:00:00Z  https://www.salary.com/research/ie-salary/benc...   \n",
            "1     2021-03-19T00:00:00Z  https://www.salary.com/research/ie-salary/benc...   \n",
            "2     2021-03-19T00:00:00Z  https://www.salary.com/research/ie-salary/benc...   \n",
            "3     2021-03-19T00:00:00Z  https://www.salary.com/research/ie-salary/benc...   \n",
            "4     2021-03-19T00:00:00Z  https://www.salary.com/research/ie-salary/benc...   \n",
            "..                     ...                                                ...   \n",
            "121   2021-03-19T00:00:00Z  https://www.salary.com/research/ie-salary/alte...   \n",
            "122   2021-03-19T00:00:00Z  https://www.salary.com/research/ie-salary/alte...   \n",
            "123   2021-03-19T00:00:00Z  https://www.salary.com/research/ie-salary/alte...   \n",
            "124   2021-03-19T00:00:00Z  https://www.salary.com/research/ie-salary/alte...   \n",
            "125   2021-03-19T00:00:00Z  https://www.salary.com/research/ie-salary/alte...   \n",
            "\n",
            "                                              job_desc  \n",
            "0    Contribute to an architecture roadmap covering...  \n",
            "1    Contribute to an architecture roadmap covering...  \n",
            "2    Contribute to an architecture roadmap covering...  \n",
            "3    Contribute to an architecture roadmap covering...  \n",
            "4    Contribute to an architecture roadmap covering...  \n",
            "..                                                 ...  \n",
            "121  When assigned to this particular warehouse dut...  \n",
            "122  When assigned to this particular warehouse dut...  \n",
            "123  When assigned to this particular warehouse dut...  \n",
            "124  When assigned to this particular warehouse dut...  \n",
            "125  When assigned to this particular warehouse dut...  \n",
            "\n",
            "[126 rows x 11 columns]\n"
          ]
        }
      ]
    },
    {
      "cell_type": "code",
      "source": [
        "salary_df.info()"
      ],
      "metadata": {
        "id": "kZQbdWOyNtiB",
        "outputId": "6b47ef4c-1802-47f4-94f2-be42e0d16814",
        "colab": {
          "base_uri": "https://localhost:8080/"
        }
      },
      "execution_count": 29,
      "outputs": [
        {
          "output_type": "stream",
          "name": "stdout",
          "text": [
            "<class 'pandas.core.frame.DataFrame'>\n",
            "RangeIndex: 126 entries, 0 to 125\n",
            "Data columns (total 14 columns):\n",
            " #   Column                  Non-Null Count  Dtype              \n",
            "---  ------                  --------------  -----              \n",
            " 0   job_designation         126 non-null    object             \n",
            " 1   percentile25_salary     126 non-null    object             \n",
            " 2   median_salary           126 non-null    object             \n",
            " 3   percentile75_salary     126 non-null    object             \n",
            " 4   salary_type             126 non-null    object             \n",
            " 5   currency                126 non-null    object             \n",
            " 6   salary_duration         126 non-null    object             \n",
            " 7   location                126 non-null    object             \n",
            " 8   last_reviewed_datetime  126 non-null    object             \n",
            " 9   weblink                 126 non-null    object             \n",
            " 10  job_desc                126 non-null    object             \n",
            " 11  county                  126 non-null    object             \n",
            " 12  country                 126 non-null    object             \n",
            " 13  last_reviewed_date      126 non-null    datetime64[ns, UTC]\n",
            "dtypes: datetime64[ns, UTC](1), object(13)\n",
            "memory usage: 13.9+ KB\n"
          ]
        }
      ]
    },
    {
      "cell_type": "code",
      "source": [
        "#Data Cleaning\n",
        "\n",
        "#Splitting the 'location' feature into two new features 'county' and 'country'\n",
        "location=salary_df['location'].str.split(\",\",expand=True) #expand=True will give the output in a dataframe instead of the default list\n",
        "salary_df['county']=location[0]\n",
        "salary_df['country']=location[1]\n",
        "\n",
        "#Extracting only the date part from 'last_reviewed_datetime' and saving it to a new feature 'last_reviewed_date'\n",
        "import datetime\n",
        "salary_df['last_reviewed_date']=pd.to_datetime(salary_df['last_reviewed_datetime'].str.slice(0, 10))\n",
        "\n",
        "#Final salary dataset after cleaning\n",
        "salary_df"
      ],
      "metadata": {
        "id": "-V71WPqJHR_a",
        "outputId": "2bcf8ed6-8730-462d-c99a-d318610bb4c2",
        "colab": {
          "base_uri": "https://localhost:8080/",
          "height": 1000
        }
      },
      "execution_count": 33,
      "outputs": [
        {
          "output_type": "execute_result",
          "data": {
            "text/plain": [
              "       job_designation percentile25_salary median_salary percentile75_salary  \\\n",
              "0    Data Architect II               42167         50115               58800   \n",
              "1    Data Architect II               39972         47506               55739   \n",
              "2    Data Architect II               39035         46393               54433   \n",
              "3    Data Architect II               39420         46850               54969   \n",
              "4    Data Architect II               38646         45930               53890   \n",
              "..                 ...                 ...           ...                 ...   \n",
              "121   Warehouse Helper               22562         29382               38055   \n",
              "122   Warehouse Helper               22033         28693               37163   \n",
              "123   Warehouse Helper               22251         28976               37530   \n",
              "124   Warehouse Helper               21814         28407               36793   \n",
              "125   Warehouse Helper               21406         27877               36106   \n",
              "\n",
              "    salary_type currency salary_duration               location  \\\n",
              "0          base      EUR             P1Y        Dublin, Ireland   \n",
              "1          base      EUR             P1Y          Cork, Ireland   \n",
              "2          base      EUR             P1Y        Galway, Ireland   \n",
              "3          base      EUR             P1Y      Limerick, Ireland   \n",
              "4          base      EUR             P1Y  Shannon-West, Ireland   \n",
              "..          ...      ...             ...                    ...   \n",
              "121        base      EUR             P1Y          Cork, Ireland   \n",
              "122        base      EUR             P1Y        Galway, Ireland   \n",
              "123        base      EUR             P1Y      Limerick, Ireland   \n",
              "124        base      EUR             P1Y  Shannon-West, Ireland   \n",
              "125        base      EUR             P1Y     Waterford, Ireland   \n",
              "\n",
              "    last_reviewed_datetime                                            weblink  \\\n",
              "0     2021-03-19T00:00:00Z  https://www.salary.com/research/ie-salary/benc...   \n",
              "1     2021-03-19T00:00:00Z  https://www.salary.com/research/ie-salary/benc...   \n",
              "2     2021-03-19T00:00:00Z  https://www.salary.com/research/ie-salary/benc...   \n",
              "3     2021-03-19T00:00:00Z  https://www.salary.com/research/ie-salary/benc...   \n",
              "4     2021-03-19T00:00:00Z  https://www.salary.com/research/ie-salary/benc...   \n",
              "..                     ...                                                ...   \n",
              "121   2021-03-19T00:00:00Z  https://www.salary.com/research/ie-salary/alte...   \n",
              "122   2021-03-19T00:00:00Z  https://www.salary.com/research/ie-salary/alte...   \n",
              "123   2021-03-19T00:00:00Z  https://www.salary.com/research/ie-salary/alte...   \n",
              "124   2021-03-19T00:00:00Z  https://www.salary.com/research/ie-salary/alte...   \n",
              "125   2021-03-19T00:00:00Z  https://www.salary.com/research/ie-salary/alte...   \n",
              "\n",
              "                                              job_desc        county  \\\n",
              "0    Contribute to an architecture roadmap covering...        Dublin   \n",
              "1    Contribute to an architecture roadmap covering...          Cork   \n",
              "2    Contribute to an architecture roadmap covering...        Galway   \n",
              "3    Contribute to an architecture roadmap covering...      Limerick   \n",
              "4    Contribute to an architecture roadmap covering...  Shannon-West   \n",
              "..                                                 ...           ...   \n",
              "121  When assigned to this particular warehouse dut...          Cork   \n",
              "122  When assigned to this particular warehouse dut...        Galway   \n",
              "123  When assigned to this particular warehouse dut...      Limerick   \n",
              "124  When assigned to this particular warehouse dut...  Shannon-West   \n",
              "125  When assigned to this particular warehouse dut...     Waterford   \n",
              "\n",
              "      country last_reviewed_date  \n",
              "0     Ireland         2021-03-19  \n",
              "1     Ireland         2021-03-19  \n",
              "2     Ireland         2021-03-19  \n",
              "3     Ireland         2021-03-19  \n",
              "4     Ireland         2021-03-19  \n",
              "..        ...                ...  \n",
              "121   Ireland         2021-03-19  \n",
              "122   Ireland         2021-03-19  \n",
              "123   Ireland         2021-03-19  \n",
              "124   Ireland         2021-03-19  \n",
              "125   Ireland         2021-03-19  \n",
              "\n",
              "[126 rows x 14 columns]"
            ],
            "text/html": [
              "\n",
              "  <div id=\"df-fe8a1f2e-c6bd-4f19-b5e1-380a1d4f0f21\">\n",
              "    <div class=\"colab-df-container\">\n",
              "      <div>\n",
              "<style scoped>\n",
              "    .dataframe tbody tr th:only-of-type {\n",
              "        vertical-align: middle;\n",
              "    }\n",
              "\n",
              "    .dataframe tbody tr th {\n",
              "        vertical-align: top;\n",
              "    }\n",
              "\n",
              "    .dataframe thead th {\n",
              "        text-align: right;\n",
              "    }\n",
              "</style>\n",
              "<table border=\"1\" class=\"dataframe\">\n",
              "  <thead>\n",
              "    <tr style=\"text-align: right;\">\n",
              "      <th></th>\n",
              "      <th>job_designation</th>\n",
              "      <th>percentile25_salary</th>\n",
              "      <th>median_salary</th>\n",
              "      <th>percentile75_salary</th>\n",
              "      <th>salary_type</th>\n",
              "      <th>currency</th>\n",
              "      <th>salary_duration</th>\n",
              "      <th>location</th>\n",
              "      <th>last_reviewed_datetime</th>\n",
              "      <th>weblink</th>\n",
              "      <th>job_desc</th>\n",
              "      <th>county</th>\n",
              "      <th>country</th>\n",
              "      <th>last_reviewed_date</th>\n",
              "    </tr>\n",
              "  </thead>\n",
              "  <tbody>\n",
              "    <tr>\n",
              "      <th>0</th>\n",
              "      <td>Data Architect II</td>\n",
              "      <td>42167</td>\n",
              "      <td>50115</td>\n",
              "      <td>58800</td>\n",
              "      <td>base</td>\n",
              "      <td>EUR</td>\n",
              "      <td>P1Y</td>\n",
              "      <td>Dublin, Ireland</td>\n",
              "      <td>2021-03-19T00:00:00Z</td>\n",
              "      <td>https://www.salary.com/research/ie-salary/benc...</td>\n",
              "      <td>Contribute to an architecture roadmap covering...</td>\n",
              "      <td>Dublin</td>\n",
              "      <td>Ireland</td>\n",
              "      <td>2021-03-19</td>\n",
              "    </tr>\n",
              "    <tr>\n",
              "      <th>1</th>\n",
              "      <td>Data Architect II</td>\n",
              "      <td>39972</td>\n",
              "      <td>47506</td>\n",
              "      <td>55739</td>\n",
              "      <td>base</td>\n",
              "      <td>EUR</td>\n",
              "      <td>P1Y</td>\n",
              "      <td>Cork, Ireland</td>\n",
              "      <td>2021-03-19T00:00:00Z</td>\n",
              "      <td>https://www.salary.com/research/ie-salary/benc...</td>\n",
              "      <td>Contribute to an architecture roadmap covering...</td>\n",
              "      <td>Cork</td>\n",
              "      <td>Ireland</td>\n",
              "      <td>2021-03-19</td>\n",
              "    </tr>\n",
              "    <tr>\n",
              "      <th>2</th>\n",
              "      <td>Data Architect II</td>\n",
              "      <td>39035</td>\n",
              "      <td>46393</td>\n",
              "      <td>54433</td>\n",
              "      <td>base</td>\n",
              "      <td>EUR</td>\n",
              "      <td>P1Y</td>\n",
              "      <td>Galway, Ireland</td>\n",
              "      <td>2021-03-19T00:00:00Z</td>\n",
              "      <td>https://www.salary.com/research/ie-salary/benc...</td>\n",
              "      <td>Contribute to an architecture roadmap covering...</td>\n",
              "      <td>Galway</td>\n",
              "      <td>Ireland</td>\n",
              "      <td>2021-03-19</td>\n",
              "    </tr>\n",
              "    <tr>\n",
              "      <th>3</th>\n",
              "      <td>Data Architect II</td>\n",
              "      <td>39420</td>\n",
              "      <td>46850</td>\n",
              "      <td>54969</td>\n",
              "      <td>base</td>\n",
              "      <td>EUR</td>\n",
              "      <td>P1Y</td>\n",
              "      <td>Limerick, Ireland</td>\n",
              "      <td>2021-03-19T00:00:00Z</td>\n",
              "      <td>https://www.salary.com/research/ie-salary/benc...</td>\n",
              "      <td>Contribute to an architecture roadmap covering...</td>\n",
              "      <td>Limerick</td>\n",
              "      <td>Ireland</td>\n",
              "      <td>2021-03-19</td>\n",
              "    </tr>\n",
              "    <tr>\n",
              "      <th>4</th>\n",
              "      <td>Data Architect II</td>\n",
              "      <td>38646</td>\n",
              "      <td>45930</td>\n",
              "      <td>53890</td>\n",
              "      <td>base</td>\n",
              "      <td>EUR</td>\n",
              "      <td>P1Y</td>\n",
              "      <td>Shannon-West, Ireland</td>\n",
              "      <td>2021-03-19T00:00:00Z</td>\n",
              "      <td>https://www.salary.com/research/ie-salary/benc...</td>\n",
              "      <td>Contribute to an architecture roadmap covering...</td>\n",
              "      <td>Shannon-West</td>\n",
              "      <td>Ireland</td>\n",
              "      <td>2021-03-19</td>\n",
              "    </tr>\n",
              "    <tr>\n",
              "      <th>...</th>\n",
              "      <td>...</td>\n",
              "      <td>...</td>\n",
              "      <td>...</td>\n",
              "      <td>...</td>\n",
              "      <td>...</td>\n",
              "      <td>...</td>\n",
              "      <td>...</td>\n",
              "      <td>...</td>\n",
              "      <td>...</td>\n",
              "      <td>...</td>\n",
              "      <td>...</td>\n",
              "      <td>...</td>\n",
              "      <td>...</td>\n",
              "      <td>...</td>\n",
              "    </tr>\n",
              "    <tr>\n",
              "      <th>121</th>\n",
              "      <td>Warehouse Helper</td>\n",
              "      <td>22562</td>\n",
              "      <td>29382</td>\n",
              "      <td>38055</td>\n",
              "      <td>base</td>\n",
              "      <td>EUR</td>\n",
              "      <td>P1Y</td>\n",
              "      <td>Cork, Ireland</td>\n",
              "      <td>2021-03-19T00:00:00Z</td>\n",
              "      <td>https://www.salary.com/research/ie-salary/alte...</td>\n",
              "      <td>When assigned to this particular warehouse dut...</td>\n",
              "      <td>Cork</td>\n",
              "      <td>Ireland</td>\n",
              "      <td>2021-03-19</td>\n",
              "    </tr>\n",
              "    <tr>\n",
              "      <th>122</th>\n",
              "      <td>Warehouse Helper</td>\n",
              "      <td>22033</td>\n",
              "      <td>28693</td>\n",
              "      <td>37163</td>\n",
              "      <td>base</td>\n",
              "      <td>EUR</td>\n",
              "      <td>P1Y</td>\n",
              "      <td>Galway, Ireland</td>\n",
              "      <td>2021-03-19T00:00:00Z</td>\n",
              "      <td>https://www.salary.com/research/ie-salary/alte...</td>\n",
              "      <td>When assigned to this particular warehouse dut...</td>\n",
              "      <td>Galway</td>\n",
              "      <td>Ireland</td>\n",
              "      <td>2021-03-19</td>\n",
              "    </tr>\n",
              "    <tr>\n",
              "      <th>123</th>\n",
              "      <td>Warehouse Helper</td>\n",
              "      <td>22251</td>\n",
              "      <td>28976</td>\n",
              "      <td>37530</td>\n",
              "      <td>base</td>\n",
              "      <td>EUR</td>\n",
              "      <td>P1Y</td>\n",
              "      <td>Limerick, Ireland</td>\n",
              "      <td>2021-03-19T00:00:00Z</td>\n",
              "      <td>https://www.salary.com/research/ie-salary/alte...</td>\n",
              "      <td>When assigned to this particular warehouse dut...</td>\n",
              "      <td>Limerick</td>\n",
              "      <td>Ireland</td>\n",
              "      <td>2021-03-19</td>\n",
              "    </tr>\n",
              "    <tr>\n",
              "      <th>124</th>\n",
              "      <td>Warehouse Helper</td>\n",
              "      <td>21814</td>\n",
              "      <td>28407</td>\n",
              "      <td>36793</td>\n",
              "      <td>base</td>\n",
              "      <td>EUR</td>\n",
              "      <td>P1Y</td>\n",
              "      <td>Shannon-West, Ireland</td>\n",
              "      <td>2021-03-19T00:00:00Z</td>\n",
              "      <td>https://www.salary.com/research/ie-salary/alte...</td>\n",
              "      <td>When assigned to this particular warehouse dut...</td>\n",
              "      <td>Shannon-West</td>\n",
              "      <td>Ireland</td>\n",
              "      <td>2021-03-19</td>\n",
              "    </tr>\n",
              "    <tr>\n",
              "      <th>125</th>\n",
              "      <td>Warehouse Helper</td>\n",
              "      <td>21406</td>\n",
              "      <td>27877</td>\n",
              "      <td>36106</td>\n",
              "      <td>base</td>\n",
              "      <td>EUR</td>\n",
              "      <td>P1Y</td>\n",
              "      <td>Waterford, Ireland</td>\n",
              "      <td>2021-03-19T00:00:00Z</td>\n",
              "      <td>https://www.salary.com/research/ie-salary/alte...</td>\n",
              "      <td>When assigned to this particular warehouse dut...</td>\n",
              "      <td>Waterford</td>\n",
              "      <td>Ireland</td>\n",
              "      <td>2021-03-19</td>\n",
              "    </tr>\n",
              "  </tbody>\n",
              "</table>\n",
              "<p>126 rows × 14 columns</p>\n",
              "</div>\n",
              "      <button class=\"colab-df-convert\" onclick=\"convertToInteractive('df-fe8a1f2e-c6bd-4f19-b5e1-380a1d4f0f21')\"\n",
              "              title=\"Convert this dataframe to an interactive table.\"\n",
              "              style=\"display:none;\">\n",
              "        \n",
              "  <svg xmlns=\"http://www.w3.org/2000/svg\" height=\"24px\"viewBox=\"0 0 24 24\"\n",
              "       width=\"24px\">\n",
              "    <path d=\"M0 0h24v24H0V0z\" fill=\"none\"/>\n",
              "    <path d=\"M18.56 5.44l.94 2.06.94-2.06 2.06-.94-2.06-.94-.94-2.06-.94 2.06-2.06.94zm-11 1L8.5 8.5l.94-2.06 2.06-.94-2.06-.94L8.5 2.5l-.94 2.06-2.06.94zm10 10l.94 2.06.94-2.06 2.06-.94-2.06-.94-.94-2.06-.94 2.06-2.06.94z\"/><path d=\"M17.41 7.96l-1.37-1.37c-.4-.4-.92-.59-1.43-.59-.52 0-1.04.2-1.43.59L10.3 9.45l-7.72 7.72c-.78.78-.78 2.05 0 2.83L4 21.41c.39.39.9.59 1.41.59.51 0 1.02-.2 1.41-.59l7.78-7.78 2.81-2.81c.8-.78.8-2.07 0-2.86zM5.41 20L4 18.59l7.72-7.72 1.47 1.35L5.41 20z\"/>\n",
              "  </svg>\n",
              "      </button>\n",
              "      \n",
              "  <style>\n",
              "    .colab-df-container {\n",
              "      display:flex;\n",
              "      flex-wrap:wrap;\n",
              "      gap: 12px;\n",
              "    }\n",
              "\n",
              "    .colab-df-convert {\n",
              "      background-color: #E8F0FE;\n",
              "      border: none;\n",
              "      border-radius: 50%;\n",
              "      cursor: pointer;\n",
              "      display: none;\n",
              "      fill: #1967D2;\n",
              "      height: 32px;\n",
              "      padding: 0 0 0 0;\n",
              "      width: 32px;\n",
              "    }\n",
              "\n",
              "    .colab-df-convert:hover {\n",
              "      background-color: #E2EBFA;\n",
              "      box-shadow: 0px 1px 2px rgba(60, 64, 67, 0.3), 0px 1px 3px 1px rgba(60, 64, 67, 0.15);\n",
              "      fill: #174EA6;\n",
              "    }\n",
              "\n",
              "    [theme=dark] .colab-df-convert {\n",
              "      background-color: #3B4455;\n",
              "      fill: #D2E3FC;\n",
              "    }\n",
              "\n",
              "    [theme=dark] .colab-df-convert:hover {\n",
              "      background-color: #434B5C;\n",
              "      box-shadow: 0px 1px 3px 1px rgba(0, 0, 0, 0.15);\n",
              "      filter: drop-shadow(0px 1px 2px rgba(0, 0, 0, 0.3));\n",
              "      fill: #FFFFFF;\n",
              "    }\n",
              "  </style>\n",
              "\n",
              "      <script>\n",
              "        const buttonEl =\n",
              "          document.querySelector('#df-fe8a1f2e-c6bd-4f19-b5e1-380a1d4f0f21 button.colab-df-convert');\n",
              "        buttonEl.style.display =\n",
              "          google.colab.kernel.accessAllowed ? 'block' : 'none';\n",
              "\n",
              "        async function convertToInteractive(key) {\n",
              "          const element = document.querySelector('#df-fe8a1f2e-c6bd-4f19-b5e1-380a1d4f0f21');\n",
              "          const dataTable =\n",
              "            await google.colab.kernel.invokeFunction('convertToInteractive',\n",
              "                                                     [key], {});\n",
              "          if (!dataTable) return;\n",
              "\n",
              "          const docLinkHtml = 'Like what you see? Visit the ' +\n",
              "            '<a target=\"_blank\" href=https://colab.research.google.com/notebooks/data_table.ipynb>data table notebook</a>'\n",
              "            + ' to learn more about interactive tables.';\n",
              "          element.innerHTML = '';\n",
              "          dataTable['output_type'] = 'display_data';\n",
              "          await google.colab.output.renderOutput(dataTable, element);\n",
              "          const docLink = document.createElement('div');\n",
              "          docLink.innerHTML = docLinkHtml;\n",
              "          element.appendChild(docLink);\n",
              "        }\n",
              "      </script>\n",
              "    </div>\n",
              "  </div>\n",
              "  "
            ]
          },
          "metadata": {},
          "execution_count": 33
        }
      ]
    }
  ]
}
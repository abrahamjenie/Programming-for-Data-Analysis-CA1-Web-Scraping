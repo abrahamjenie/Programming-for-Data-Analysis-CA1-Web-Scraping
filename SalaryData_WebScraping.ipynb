{
  "nbformat": 4,
  "nbformat_minor": 0,
  "metadata": {
    "colab": {
      "provenance": [],
      "authorship_tag": "ABX9TyO4tmFSIOsU1dia6Z2J3oyc",
      "include_colab_link": true
    },
    "kernelspec": {
      "name": "python3",
      "display_name": "Python 3"
    },
    "language_info": {
      "name": "python"
    }
  },
  "cells": [
    {
      "cell_type": "markdown",
      "metadata": {
        "id": "view-in-github",
        "colab_type": "text"
      },
      "source": [
        "<a href=\"https://colab.research.google.com/github/abrahamjenie/Programming-for-Data-Analysis-CA1-Web-Scraping/blob/main/SalaryData_WebScraping.ipynb\" target=\"_parent\"><img src=\"https://colab.research.google.com/assets/colab-badge.svg\" alt=\"Open In Colab\"/></a>"
      ]
    },
    {
      "cell_type": "code",
      "execution_count": 1,
      "metadata": {
        "id": "MzQzyfTuJ5ks"
      },
      "outputs": [],
      "source": [
        "#Importing Packages\n",
        "import requests\n",
        "from bs4 import BeautifulSoup\n",
        "import json\n",
        "import pandas as pd\n",
        "import time"
      ]
    },
    {
      "cell_type": "code",
      "source": [
        "url=\"https://www.salary.com/research/ie-salary/alternate/data-scientist-analytics-intermediate-salary/ie/dublin\"\n",
        "r = requests.get(url)\n",
        "print(r) #status code is 200 "
      ],
      "metadata": {
        "id": "AQPaDgXZ0HHk",
        "outputId": "fdb3754a-437b-450f-fa3a-96f3142c2c5e",
        "colab": {
          "base_uri": "https://localhost:8080/"
        }
      },
      "execution_count": 2,
      "outputs": [
        {
          "output_type": "stream",
          "name": "stdout",
          "text": [
            "<Response [200]>\n"
          ]
        }
      ]
    },
    {
      "cell_type": "code",
      "source": [
        "r.content\n",
        "1"
      ],
      "metadata": {
        "id": "qNF675tV0L4v",
        "outputId": "abcc260e-44ff-4e21-e4b0-407a1a3de0a8",
        "colab": {
          "base_uri": "https://localhost:8080/"
        }
      },
      "execution_count": 3,
      "outputs": [
        {
          "output_type": "execute_result",
          "data": {
            "text/plain": [
              "1"
            ]
          },
          "metadata": {},
          "execution_count": 3
        }
      ]
    },
    {
      "cell_type": "code",
      "source": [
        "soup=BeautifulSoup(r.content,'html.parser')\n",
        "script=soup.find_all('script')[5].text\n",
        "script"
      ],
      "metadata": {
        "id": "90Up1pNH0RiR",
        "outputId": "c73e83f2-96ae-4d27-b60a-017a42d20edb",
        "colab": {
          "base_uri": "https://localhost:8080/",
          "height": 139
        }
      },
      "execution_count": 4,
      "outputs": [
        {
          "output_type": "execute_result",
          "data": {
            "text/plain": [
              "'\\r\\n    {\\r\\n    \"@context\": \"http://schema.org\",\\r\\n    \"@type\": \"Occupation\",\\r\\n    \"name\": \"Data Scientist/Analytics , Intermediate\",\\r\\n    \"mainEntityOfPage\": {\\r\\n    \"@type\": \"WebPage\",\\r\\n    \"lastReviewed\": \"2021-03-19T00:00:00Z\"\\r\\n    },\\r\\n    \"description\": \"A Data Scientist is a professional who extensively works with Big Data in order to derive valuable business insights from it.\\r\\nHowever, data scientists and predictive analytics professionals (PAPs) are more likely to hold an advanced degree.\\r\\nDay-to-day activities of a Data Scientist sometimes can be predictable, and sometimes they are something out of the ordinary.\\r\\n\",\\r\\n    \"estimatedSalary\": [{\\r\\n    \"@type\": \"MonetaryAmountDistribution\",\\r\\n    \"name\": \"base\",\\r\\n    \"currency\": \"EUR\",\\r\\n    \"duration\": \"P1Y\",\\r\\n    \"percentile25\": \"31559\",\\r\\n    \"median\": \"39009\",\\r\\n    \"percentile75\": \"46472\"\\r\\n    }]\\r\\n        \\r\\n            ,\\r\\n            \"occupationLocation\": [{\\r\\n            \"@type\": \"City\",\\r\\n            \"name\": \"Dublin, Ireland\"\\r\\n            }]\\r\\n        \\r\\n    }\\r\\n'"
            ],
            "application/vnd.google.colaboratory.intrinsic+json": {
              "type": "string"
            }
          },
          "metadata": {},
          "execution_count": 4
        }
      ]
    },
    {
      "cell_type": "code",
      "source": [
        "json_data=json.loads(script,strict=False) #strict=False is used because there are control characters like '\\r','\\n'\n",
        "json_data"
      ],
      "metadata": {
        "id": "_7K-CRTv0XKY",
        "outputId": "6efeba87-499d-455e-fd47-7b2c212ccbb6",
        "colab": {
          "base_uri": "https://localhost:8080/"
        }
      },
      "execution_count": 5,
      "outputs": [
        {
          "output_type": "execute_result",
          "data": {
            "text/plain": [
              "{'@context': 'http://schema.org',\n",
              " '@type': 'Occupation',\n",
              " 'name': 'Data Scientist/Analytics , Intermediate',\n",
              " 'mainEntityOfPage': {'@type': 'WebPage',\n",
              "  'lastReviewed': '2021-03-19T00:00:00Z'},\n",
              " 'description': 'A Data Scientist is a professional who extensively works with Big Data in order to derive valuable business insights from it.\\r\\nHowever, data scientists and predictive analytics professionals (PAPs) are more likely to hold an advanced degree.\\r\\nDay-to-day activities of a Data Scientist sometimes can be predictable, and sometimes they are something out of the ordinary.\\r\\n',\n",
              " 'estimatedSalary': [{'@type': 'MonetaryAmountDistribution',\n",
              "   'name': 'base',\n",
              "   'currency': 'EUR',\n",
              "   'duration': 'P1Y',\n",
              "   'percentile25': '31559',\n",
              "   'median': '39009',\n",
              "   'percentile75': '46472'}],\n",
              " 'occupationLocation': [{'@type': 'City', 'name': 'Dublin, Ireland'}]}"
            ]
          },
          "metadata": {},
          "execution_count": 5
        }
      ]
    },
    {
      "cell_type": "code",
      "source": [
        "meta_url=soup.find('meta',property=\"og:url\")\n",
        "meta_url"
      ],
      "metadata": {
        "id": "13vTUiv30fM3",
        "outputId": "5669cae8-ca0b-4d4d-929d-65054e81570d",
        "colab": {
          "base_uri": "https://localhost:8080/"
        }
      },
      "execution_count": 6,
      "outputs": [
        {
          "output_type": "execute_result",
          "data": {
            "text/plain": [
              "<meta content=\"https://www.salary.com/research/ie-salary/alternate/data-scientist-analytics-intermediate-salary/ie/dublin\" property=\"og:url\"/>"
            ]
          },
          "metadata": {},
          "execution_count": 6
        }
      ]
    },
    {
      "cell_type": "code",
      "source": [
        "job_designation=json_data['name']\n",
        "job_desc=json_data['description']\n",
        "percentile25_salary=json_data['estimatedSalary'][0]['percentile25']\n",
        "median_salary=json_data['estimatedSalary'][0]['median']\n",
        "percentile75_salary=json_data['estimatedSalary'][0]['percentile75']\n",
        "salary_type=json_data['estimatedSalary'][0]['name']\n",
        "currency=json_data['estimatedSalary'][0]['currency']\n",
        "salary_duration=json_data['estimatedSalary'][0]['duration']\n",
        "location=json_data['occupationLocation'][0]['name']\n",
        "last_reviewed_date=json_data['mainEntityOfPage']['lastReviewed']\n",
        "weblink=meta_url['content']\n",
        "\n",
        "print(job_designation,percentile25_salary,median_salary,percentile75_salary,salary_type,currency,salary_duration,location,last_reviewed_date,meta_url,weblink)"
      ],
      "metadata": {
        "id": "jWun1dNy0mKr",
        "outputId": "33809bee-f712-478c-8340-dec309a64d0d",
        "colab": {
          "base_uri": "https://localhost:8080/"
        }
      },
      "execution_count": 7,
      "outputs": [
        {
          "output_type": "stream",
          "name": "stdout",
          "text": [
            "Data Scientist/Analytics , Intermediate 31559 39009 46472 base EUR P1Y Dublin, Ireland 2021-03-19T00:00:00Z <meta content=\"https://www.salary.com/research/ie-salary/alternate/data-scientist-analytics-intermediate-salary/ie/dublin\" property=\"og:url\"/> https://www.salary.com/research/ie-salary/alternate/data-scientist-analytics-intermediate-salary/ie/dublin\n"
          ]
        }
      ]
    },
    {
      "cell_type": "code",
      "source": [
        "cities=['dublin','cork','galway','limerick','shannon-west','waterford']\n",
        "job_roles=['personal-assistant-to-ceo','operational-risk-analyst-ii','entry-hr-generalist','senior-risk-analyst','asset-and-liability-risk-analyst','junior-accountant','financial-accountant-i','it-user-support-manager','data-scientist-analytics-senior-specialist','life-sciences-research-scientist-iii','hr-assistant-ii','data-scientist-analytics-intermediate','entry-financial-analyst','entry-accountant','graphic-designer-ii','instructional-designer','healthcare-services-planning-director','warehouse-operations-supervisor','database-warehouse-programmer','warehouse-helper']\n",
        "data={}\n",
        "salary_df=pd.DataFrame(data)\n",
        "for role in job_roles:\n",
        "  for city in cities:\n",
        "    template = 'https://www.salary.com/research/ie-salary/alternate/{}-salary/ie/{}'\n",
        "    try:\n",
        "      url = template.format(role, city)\n",
        "      r = requests.get(url)\n",
        "      if r.status_code !=200:\n",
        "        raise Exception\n",
        "    except:\n",
        "      print(\"HTTP request failed for {}\".format(url))\n",
        "      continue\n",
        "        \n",
        "    soup=BeautifulSoup(r.content,'html.parser')\n",
        "    script=soup.find_all('script')[5].text\n",
        "    \n",
        "    json_data=json.loads(script,strict=False)\n",
        "    \n",
        "    meta_url=soup.find('meta',property=\"og:url\")\n",
        "    \n",
        "    new_row={'job_designation':json_data['name'],'percentile25_salary':json_data['estimatedSalary'][0]['percentile25'],\n",
        "             'median_salary':json_data['estimatedSalary'][0]['median'],'percentile75_salary':json_data['estimatedSalary'][0]['percentile75'],\n",
        "             'salary_type':json_data['estimatedSalary'][0]['name'],'currency':json_data['estimatedSalary'][0]['currency'],\n",
        "             'salary_duration':json_data['estimatedSalary'][0]['duration'],'location':json_data['occupationLocation'][0]['name'],\n",
        "             'last_reviewed_date':json_data['mainEntityOfPage']['lastReviewed'],'weblink':meta_url['content'],'job_desc':json_data['description']}\n",
        "    salary_df = salary_df.append(new_row, ignore_index=True)\n",
        "print(salary_df.shape)"
      ],
      "metadata": {
        "id": "1VEg5ZP_mFjs",
        "outputId": "565f2fad-2dd9-480b-aae7-48f3b81e3b44",
        "colab": {
          "base_uri": "https://localhost:8080/"
        }
      },
      "execution_count": 8,
      "outputs": [
        {
          "output_type": "stream",
          "name": "stdout",
          "text": [
            "(120, 11)\n"
          ]
        }
      ]
    },
    {
      "cell_type": "code",
      "source": [
        "data={}\n",
        "\n",
        "def get_salary(job_roles, cities):\n",
        "  salary_df=pd.DataFrame(data)\n",
        "  for role in job_roles:\n",
        "    for city in cities:\n",
        "      template = 'https://www.salary.com/research/ie-salary/alternate/{}-salary/ie/{}'\n",
        "      try:\n",
        "        url = template.format(role, city)\n",
        "        r = requests.get(url)\n",
        "        if r.status_code !=200:\n",
        "          raise Exception\n",
        "      except:\n",
        "        continue\n",
        "        print(\"HTTP request failed for job designation {} and county {}\".format(role, city))\n",
        "      \n",
        "      soup=BeautifulSoup(r.content,'html.parser')\n",
        "      script=soup.find_all('script')[5].text\n",
        "      \n",
        "      json_data=json.loads(script,strict=False)\n",
        "      \n",
        "      meta_url=soup.find('meta',property=\"og:url\")\n",
        "      \n",
        "      new_row={'job_designation':json_data['name'],'percentile25_salary':json_data['estimatedSalary'][0]['percentile25'],\n",
        "              'median_salary':json_data['estimatedSalary'][0]['median'],'percentile75_salary':json_data['estimatedSalary'][0]['percentile75'],\n",
        "              'salary_type':json_data['estimatedSalary'][0]['name'],'currency':json_data['estimatedSalary'][0]['currency'],\n",
        "              'salary_duration':json_data['estimatedSalary'][0]['duration'],'location':json_data['occupationLocation'][0]['name'],\n",
        "              'last_reviewed_date':json_data['mainEntityOfPage']['lastReviewed'],'weblink':meta_url['content'],'job_desc':json_data['description']}\n",
        "      salary_df=salary_df.append(new_row, ignore_index=True)\n",
        "  return salary_df\n",
        "  return salary_df.shape"
      ],
      "metadata": {
        "id": "0TMf-aCQzCil"
      },
      "execution_count": 9,
      "outputs": []
    },
    {
      "cell_type": "code",
      "source": [
        "cities=['dublin','cork','galway','limerick','shannon-west','waterford']\n",
        "job_roles=['test','entry-financial-analyst','entry-accountant','graphic-designer-ii','sales-director','instructional-designer','software-engineer-I','web-software-developer-ii','sales-assistant-I','digital-marketing-manager','healthcare-services-planning-director','quality-assurance-specialist-I','business-data-analyst-I','data-architect-I','warehouse-helper','database-warehouse-programmer']\n",
        "get_salary(job_roles,cities)\n"
      ],
      "metadata": {
        "id": "U9NN1oUm4m3G"
      },
      "execution_count": null,
      "outputs": []
    },
    {
      "cell_type": "code",
      "source": [
        "salary_df.shape"
      ],
      "metadata": {
        "id": "_jXqbFoX8ykq"
      },
      "execution_count": null,
      "outputs": []
    }
  ]
}
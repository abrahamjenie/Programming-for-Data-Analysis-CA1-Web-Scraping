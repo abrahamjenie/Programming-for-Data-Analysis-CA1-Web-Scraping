{
  "nbformat": 4,
  "nbformat_minor": 0,
  "metadata": {
    "colab": {
      "provenance": [],
      "authorship_tag": "ABX9TyNEuznQ3bb2sBOlRH+LzOIZ",
      "include_colab_link": true
    },
    "kernelspec": {
      "name": "python3",
      "display_name": "Python 3"
    },
    "language_info": {
      "name": "python"
    }
  },
  "cells": [
    {
      "cell_type": "markdown",
      "metadata": {
        "id": "view-in-github",
        "colab_type": "text"
      },
      "source": [
        "<a href=\"https://colab.research.google.com/github/abrahamjenie/Programming-for-Data-Analysis-CA1-Web-Scraping/blob/main/SalaryData_WebScraping.ipynb\" target=\"_parent\"><img src=\"https://colab.research.google.com/assets/colab-badge.svg\" alt=\"Open In Colab\"/></a>"
      ]
    },
    {
      "cell_type": "code",
      "execution_count": 6,
      "metadata": {
        "id": "MzQzyfTuJ5ks"
      },
      "outputs": [],
      "source": [
        "#Importing Packages\n",
        "import requests\n",
        "from bs4 import BeautifulSoup\n",
        "import json\n",
        "import pandas as pd\n",
        "import lxml\n",
        "import time"
      ]
    },
    {
      "cell_type": "code",
      "source": [
        "url=\"https://www.salary.com/research/ie-salary/alternate/data-scientist-analytics-intermediate-salary/ie/dublin\"\n",
        "r = requests.get(url)\n",
        "print(r) #status code is 200 "
      ],
      "metadata": {
        "id": "AQPaDgXZ0HHk",
        "outputId": "2c56c7b5-456b-4863-ee15-1ea0badacc2e",
        "colab": {
          "base_uri": "https://localhost:8080/"
        }
      },
      "execution_count": 7,
      "outputs": [
        {
          "output_type": "stream",
          "name": "stdout",
          "text": [
            "<Response [200]>\n"
          ]
        }
      ]
    },
    {
      "cell_type": "code",
      "source": [
        "r.content\n",
        "1"
      ],
      "metadata": {
        "id": "qNF675tV0L4v",
        "outputId": "a08d6ba4-7b2d-4350-8fd4-118d747b0079",
        "colab": {
          "base_uri": "https://localhost:8080/"
        }
      },
      "execution_count": 8,
      "outputs": [
        {
          "output_type": "execute_result",
          "data": {
            "text/plain": [
              "1"
            ]
          },
          "metadata": {},
          "execution_count": 8
        }
      ]
    },
    {
      "cell_type": "code",
      "source": [
        "soup=BeautifulSoup(r.content,'html.parser')\n",
        "script=soup.find_all('script')[5].text\n",
        "script"
      ],
      "metadata": {
        "id": "90Up1pNH0RiR",
        "outputId": "9037aadb-8e20-4ace-a79f-c98a24418816",
        "colab": {
          "base_uri": "https://localhost:8080/",
          "height": 139
        }
      },
      "execution_count": 9,
      "outputs": [
        {
          "output_type": "execute_result",
          "data": {
            "text/plain": [
              "'\\r\\n    {\\r\\n    \"@context\": \"http://schema.org\",\\r\\n    \"@type\": \"Occupation\",\\r\\n    \"name\": \"Data Scientist/Analytics , Intermediate\",\\r\\n    \"mainEntityOfPage\": {\\r\\n    \"@type\": \"WebPage\",\\r\\n    \"lastReviewed\": \"2021-03-19T00:00:00Z\"\\r\\n    },\\r\\n    \"description\": \"A Data Scientist is a professional who extensively works with Big Data in order to derive valuable business insights from it.\\r\\nHowever, data scientists and predictive analytics professionals (PAPs) are more likely to hold an advanced degree.\\r\\nDay-to-day activities of a Data Scientist sometimes can be predictable, and sometimes they are something out of the ordinary.\\r\\n\",\\r\\n    \"estimatedSalary\": [{\\r\\n    \"@type\": \"MonetaryAmountDistribution\",\\r\\n    \"name\": \"base\",\\r\\n    \"currency\": \"EUR\",\\r\\n    \"duration\": \"P1Y\",\\r\\n    \"percentile25\": \"31559\",\\r\\n    \"median\": \"39009\",\\r\\n    \"percentile75\": \"46472\"\\r\\n    }]\\r\\n        \\r\\n            ,\\r\\n            \"occupationLocation\": [{\\r\\n            \"@type\": \"City\",\\r\\n            \"name\": \"Dublin, Ireland\"\\r\\n            }]\\r\\n        \\r\\n    }\\r\\n'"
            ],
            "application/vnd.google.colaboratory.intrinsic+json": {
              "type": "string"
            }
          },
          "metadata": {},
          "execution_count": 9
        }
      ]
    },
    {
      "cell_type": "code",
      "source": [
        "json_data=json.loads(script,strict=False) #strict=False is used because there are control characters like '\\r','\\n'\n",
        "json_data"
      ],
      "metadata": {
        "id": "_7K-CRTv0XKY",
        "outputId": "b6315fdc-ef27-4e99-94aa-e92c979e13b0",
        "colab": {
          "base_uri": "https://localhost:8080/"
        }
      },
      "execution_count": 10,
      "outputs": [
        {
          "output_type": "execute_result",
          "data": {
            "text/plain": [
              "{'@context': 'http://schema.org',\n",
              " '@type': 'Occupation',\n",
              " 'name': 'Data Scientist/Analytics , Intermediate',\n",
              " 'mainEntityOfPage': {'@type': 'WebPage',\n",
              "  'lastReviewed': '2021-03-19T00:00:00Z'},\n",
              " 'description': 'A Data Scientist is a professional who extensively works with Big Data in order to derive valuable business insights from it.\\r\\nHowever, data scientists and predictive analytics professionals (PAPs) are more likely to hold an advanced degree.\\r\\nDay-to-day activities of a Data Scientist sometimes can be predictable, and sometimes they are something out of the ordinary.\\r\\n',\n",
              " 'estimatedSalary': [{'@type': 'MonetaryAmountDistribution',\n",
              "   'name': 'base',\n",
              "   'currency': 'EUR',\n",
              "   'duration': 'P1Y',\n",
              "   'percentile25': '31559',\n",
              "   'median': '39009',\n",
              "   'percentile75': '46472'}],\n",
              " 'occupationLocation': [{'@type': 'City', 'name': 'Dublin, Ireland'}]}"
            ]
          },
          "metadata": {},
          "execution_count": 10
        }
      ]
    },
    {
      "cell_type": "code",
      "source": [
        "meta_url=soup.find('meta',property=\"og:url\")\n",
        "meta_url"
      ],
      "metadata": {
        "id": "13vTUiv30fM3",
        "outputId": "14cd2795-3ff4-4ddb-ff93-aafde9ce7cdf",
        "colab": {
          "base_uri": "https://localhost:8080/"
        }
      },
      "execution_count": 11,
      "outputs": [
        {
          "output_type": "execute_result",
          "data": {
            "text/plain": [
              "<meta content=\"https://www.salary.com/research/ie-salary/alternate/data-scientist-analytics-intermediate-salary/ie/dublin\" property=\"og:url\"/>"
            ]
          },
          "metadata": {},
          "execution_count": 11
        }
      ]
    },
    {
      "cell_type": "code",
      "source": [
        "job_designation=json_data['name']\n",
        "job_desc=json_data['description']\n",
        "percentile25_salary=json_data['estimatedSalary'][0]['percentile25']\n",
        "median_salary=json_data['estimatedSalary'][0]['median']\n",
        "percentile75_salary=json_data['estimatedSalary'][0]['percentile75']\n",
        "salary_type=json_data['estimatedSalary'][0]['name']\n",
        "currency=json_data['estimatedSalary'][0]['currency']\n",
        "salary_duration=json_data['estimatedSalary'][0]['duration']\n",
        "location=json_data['occupationLocation'][0]['name']\n",
        "last_reviewed_date=json_data['mainEntityOfPage']['lastReviewed']\n",
        "weblink=meta_url['content']\n",
        "\n",
        "print(job_designation,percentile25_salary,median_salary,percentile75_salary,salary_type,currency,salary_duration,location,last_reviewed_date,meta_url,weblink)"
      ],
      "metadata": {
        "id": "jWun1dNy0mKr",
        "outputId": "d1199e43-a09b-49d0-f06a-af69ecb74bec",
        "colab": {
          "base_uri": "https://localhost:8080/"
        }
      },
      "execution_count": 12,
      "outputs": [
        {
          "output_type": "stream",
          "name": "stdout",
          "text": [
            "Data Scientist/Analytics , Intermediate 31559 39009 46472 base EUR P1Y Dublin, Ireland 2021-03-19T00:00:00Z <meta content=\"https://www.salary.com/research/ie-salary/alternate/data-scientist-analytics-intermediate-salary/ie/dublin\" property=\"og:url\"/> https://www.salary.com/research/ie-salary/alternate/data-scientist-analytics-intermediate-salary/ie/dublin\n"
          ]
        }
      ]
    },
    {
      "cell_type": "code",
      "source": [
        "cities=['dublin','cork','galway','limerick','shannon-west','waterford']\n",
        "job_roles=['entry-financial-analyst','entry-accountant','graphic-designer-ii','healthcare-services-planning-director','instructional-designer']\n",
        "data={}\n",
        "salary_df=pd.DataFrame(data)\n",
        "for role in job_roles:\n",
        "  for city in cities:\n",
        "    template = 'https://www.salary.com/research/ie-salary/alternate/{}-salary/ie/{}'\n",
        "    url = template.format(role, city)\n",
        "    r = requests.get(url)\n",
        "    \n",
        "    soup=BeautifulSoup(r.content,'html.parser')\n",
        "    script=soup.find_all('script')[5].text\n",
        "    \n",
        "    json_data=json.loads(script,strict=False)\n",
        "    \n",
        "    meta_url=soup.find('meta',property=\"og:url\")\n",
        "    \n",
        "    new_row={'job_designation':json_data['name'],'percentile25_salary':json_data['estimatedSalary'][0]['percentile25'],\n",
        "             'median_salary':json_data['estimatedSalary'][0]['median'],'percentile75_salary':json_data['estimatedSalary'][0]['percentile75'],\n",
        "             'salary_type':json_data['estimatedSalary'][0]['name'],'currency':json_data['estimatedSalary'][0]['currency'],\n",
        "             'salary_duration':json_data['estimatedSalary'][0]['duration'],'location':json_data['occupationLocation'][0]['name'],\n",
        "             'last_reviewed_date':json_data['mainEntityOfPage']['lastReviewed'],'weblink':meta_url['content'],'job_desc':json_data['description']}\n",
        "    salary_df = salary_df.append(new_row, ignore_index=True)\n",
        "print(salary_df)"
      ],
      "metadata": {
        "id": "0TMf-aCQzCil",
        "outputId": "ddbb47ad-23ed-4094-8ef6-817b8399a51b",
        "colab": {
          "base_uri": "https://localhost:8080/"
        }
      },
      "execution_count": 13,
      "outputs": [
        {
          "output_type": "stream",
          "name": "stdout",
          "text": [
            "                          job_designation percentile25_salary median_salary  \\\n",
            "0                 Entry Financial Analyst               35028         40101   \n",
            "1                 Entry Financial Analyst               33205         38013   \n",
            "2                 Entry Financial Analyst               32426         37122   \n",
            "3                 Entry Financial Analyst               32746         37488   \n",
            "4                 Entry Financial Analyst               32103         36752   \n",
            "5                 Entry Financial Analyst               31503         36066   \n",
            "6                        Entry Accountant               30577         36114   \n",
            "7                        Entry Accountant               28986         34234   \n",
            "8                        Entry Accountant               28306         33431   \n",
            "9                        Entry Accountant               28585         33761   \n",
            "10                       Entry Accountant               28024         33098   \n",
            "11                       Entry Accountant               27501         32480   \n",
            "12                    Graphic Designer II               42179         48299   \n",
            "13                    Graphic Designer II               39984         45785   \n",
            "14                    Graphic Designer II               39047         44712   \n",
            "15                    Graphic Designer II               39432         45153   \n",
            "16                    Graphic Designer II               38658         44266   \n",
            "17                    Graphic Designer II               37936         43439   \n",
            "18  Healthcare Services Planning Director               89038        112863   \n",
            "19  Healthcare Services Planning Director               84403        106988   \n",
            "20  Healthcare Services Planning Director               82425        104481   \n",
            "21  Healthcare Services Planning Director               83238        105511   \n",
            "22  Healthcare Services Planning Director               81604        103440   \n",
            "23  Healthcare Services Planning Director               80079        101507   \n",
            "24                 Instructional Designer               40423         48020   \n",
            "25                 Instructional Designer               38319         45520   \n",
            "26                 Instructional Designer               37421         44453   \n",
            "27                 Instructional Designer               37790         44892   \n",
            "28                 Instructional Designer               37048         44010   \n",
            "29                 Instructional Designer               36356         43188   \n",
            "\n",
            "   percentile75_salary salary_type currency salary_duration  \\\n",
            "0                49055        base      EUR             P1Y   \n",
            "1                46502        base      EUR             P1Y   \n",
            "2                45412        base      EUR             P1Y   \n",
            "3                45859        base      EUR             P1Y   \n",
            "4                44959        base      EUR             P1Y   \n",
            "5                44119        base      EUR             P1Y   \n",
            "6                42033        base      EUR             P1Y   \n",
            "7                39845        base      EUR             P1Y   \n",
            "8                38911        base      EUR             P1Y   \n",
            "9                39294        base      EUR             P1Y   \n",
            "10               38523        base      EUR             P1Y   \n",
            "11               37803        base      EUR             P1Y   \n",
            "12               62731        base      EUR             P1Y   \n",
            "13               59465        base      EUR             P1Y   \n",
            "14               58072        base      EUR             P1Y   \n",
            "15               58644        base      EUR             P1Y   \n",
            "16               57493        base      EUR             P1Y   \n",
            "17               56419        base      EUR             P1Y   \n",
            "18              137388        base      EUR             P1Y   \n",
            "19              130237        base      EUR             P1Y   \n",
            "20              127184        base      EUR             P1Y   \n",
            "21              128438        base      EUR             P1Y   \n",
            "22              125917        base      EUR             P1Y   \n",
            "23              123565        base      EUR             P1Y   \n",
            "24               58599        base      EUR             P1Y   \n",
            "25               55548        base      EUR             P1Y   \n",
            "26               54246        base      EUR             P1Y   \n",
            "27               54781        base      EUR             P1Y   \n",
            "28               53706        base      EUR             P1Y   \n",
            "29               52703        base      EUR             P1Y   \n",
            "\n",
            "                 location    last_reviewed_date  \\\n",
            "0         Dublin, Ireland  2021-03-19T00:00:00Z   \n",
            "1           Cork, Ireland  2021-03-19T00:00:00Z   \n",
            "2         Galway, Ireland  2021-03-19T00:00:00Z   \n",
            "3       Limerick, Ireland  2021-03-19T00:00:00Z   \n",
            "4   Shannon-West, Ireland  2021-03-19T00:00:00Z   \n",
            "5      Waterford, Ireland  2021-03-19T00:00:00Z   \n",
            "6         Dublin, Ireland  2021-03-19T00:00:00Z   \n",
            "7           Cork, Ireland  2021-03-19T00:00:00Z   \n",
            "8         Galway, Ireland  2021-03-19T00:00:00Z   \n",
            "9       Limerick, Ireland  2021-03-19T00:00:00Z   \n",
            "10  Shannon-West, Ireland  2021-03-19T00:00:00Z   \n",
            "11     Waterford, Ireland  2021-03-19T00:00:00Z   \n",
            "12        Dublin, Ireland  2021-03-19T00:00:00Z   \n",
            "13          Cork, Ireland  2021-03-19T00:00:00Z   \n",
            "14        Galway, Ireland  2021-03-19T00:00:00Z   \n",
            "15      Limerick, Ireland  2021-03-19T00:00:00Z   \n",
            "16  Shannon-West, Ireland  2021-03-19T00:00:00Z   \n",
            "17     Waterford, Ireland  2021-03-19T00:00:00Z   \n",
            "18        Dublin, Ireland  2021-03-19T00:00:00Z   \n",
            "19          Cork, Ireland  2021-03-19T00:00:00Z   \n",
            "20        Galway, Ireland  2021-03-19T00:00:00Z   \n",
            "21      Limerick, Ireland  2021-03-19T00:00:00Z   \n",
            "22  Shannon-West, Ireland  2021-03-19T00:00:00Z   \n",
            "23     Waterford, Ireland  2021-03-19T00:00:00Z   \n",
            "24        Dublin, Ireland  2021-03-19T00:00:00Z   \n",
            "25          Cork, Ireland  2021-03-19T00:00:00Z   \n",
            "26        Galway, Ireland  2021-03-19T00:00:00Z   \n",
            "27      Limerick, Ireland  2021-03-19T00:00:00Z   \n",
            "28  Shannon-West, Ireland  2021-03-19T00:00:00Z   \n",
            "29     Waterford, Ireland  2021-03-19T00:00:00Z   \n",
            "\n",
            "                                              weblink  \\\n",
            "0   https://www.salary.com/research/ie-salary/alte...   \n",
            "1   https://www.salary.com/research/ie-salary/alte...   \n",
            "2   https://www.salary.com/research/ie-salary/alte...   \n",
            "3   https://www.salary.com/research/ie-salary/alte...   \n",
            "4   https://www.salary.com/research/ie-salary/alte...   \n",
            "5   https://www.salary.com/research/ie-salary/alte...   \n",
            "6   https://www.salary.com/research/ie-salary/alte...   \n",
            "7   https://www.salary.com/research/ie-salary/alte...   \n",
            "8   https://www.salary.com/research/ie-salary/alte...   \n",
            "9   https://www.salary.com/research/ie-salary/alte...   \n",
            "10  https://www.salary.com/research/ie-salary/alte...   \n",
            "11  https://www.salary.com/research/ie-salary/alte...   \n",
            "12  https://www.salary.com/research/ie-salary/alte...   \n",
            "13  https://www.salary.com/research/ie-salary/alte...   \n",
            "14  https://www.salary.com/research/ie-salary/alte...   \n",
            "15  https://www.salary.com/research/ie-salary/alte...   \n",
            "16  https://www.salary.com/research/ie-salary/alte...   \n",
            "17  https://www.salary.com/research/ie-salary/alte...   \n",
            "18  https://www.salary.com/research/ie-salary/alte...   \n",
            "19  https://www.salary.com/research/ie-salary/alte...   \n",
            "20  https://www.salary.com/research/ie-salary/alte...   \n",
            "21  https://www.salary.com/research/ie-salary/alte...   \n",
            "22  https://www.salary.com/research/ie-salary/alte...   \n",
            "23  https://www.salary.com/research/ie-salary/alte...   \n",
            "24  https://www.salary.com/research/ie-salary/alte...   \n",
            "25  https://www.salary.com/research/ie-salary/alte...   \n",
            "26  https://www.salary.com/research/ie-salary/alte...   \n",
            "27  https://www.salary.com/research/ie-salary/alte...   \n",
            "28  https://www.salary.com/research/ie-salary/alte...   \n",
            "29  https://www.salary.com/research/ie-salary/alte...   \n",
            "\n",
            "                                             job_desc  \n",
            "0   Candidates for Entry Level Financial Analyst j...  \n",
            "1   Candidates for Entry Level Financial Analyst j...  \n",
            "2   Candidates for Entry Level Financial Analyst j...  \n",
            "3   Candidates for Entry Level Financial Analyst j...  \n",
            "4   Candidates for Entry Level Financial Analyst j...  \n",
            "5   Candidates for Entry Level Financial Analyst j...  \n",
            "6   Staff accountants typically work under experie...  \n",
            "7   Staff accountants typically work under experie...  \n",
            "8   Staff accountants typically work under experie...  \n",
            "9   Staff accountants typically work under experie...  \n",
            "10  Staff accountants typically work under experie...  \n",
            "11  Staff accountants typically work under experie...  \n",
            "12  This graphic designer works in CAD programs to...  \n",
            "13  This graphic designer works in CAD programs to...  \n",
            "14  This graphic designer works in CAD programs to...  \n",
            "15  This graphic designer works in CAD programs to...  \n",
            "16  This graphic designer works in CAD programs to...  \n",
            "17  This graphic designer works in CAD programs to...  \n",
            "18  The outlook for Medical and Health Services Ma...  \n",
            "19  The outlook for Medical and Health Services Ma...  \n",
            "20  The outlook for Medical and Health Services Ma...  \n",
            "21  The outlook for Medical and Health Services Ma...  \n",
            "22  The outlook for Medical and Health Services Ma...  \n",
            "23  The outlook for Medical and Health Services Ma...  \n",
            "24  In context of this background, let’s take a lo...  \n",
            "25  In context of this background, let’s take a lo...  \n",
            "26  In context of this background, let’s take a lo...  \n",
            "27  In context of this background, let’s take a lo...  \n",
            "28  In context of this background, let’s take a lo...  \n",
            "29  In context of this background, let’s take a lo...  \n"
          ]
        }
      ]
    }
  ]
}